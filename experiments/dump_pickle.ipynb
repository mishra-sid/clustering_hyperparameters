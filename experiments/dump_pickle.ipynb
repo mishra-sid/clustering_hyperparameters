{
 "cells": [
  {
   "cell_type": "code",
   "execution_count": 17,
   "id": "01a19701-b208-4e7d-8031-8038495590e6",
   "metadata": {},
   "outputs": [
    {
     "name": "stdout",
     "output_type": "stream",
     "text": [
      "Datasets ['mfeat-karhunen', 'Bioresponse', 'cnae-9', 'madelon', 'segment', 'ozone-level-8hr', 'car', 'mfeat-fourier', 'pc3', 'wall-robot-navigation', 'splice', 'steel-plates-fault', 'tic-tac-toe', 'dna', 'balance-scale', 'phoneme', 'pc4', 'pc1', 'banknote-authentication', 'ilpd', 'blood-transfusion-service-center', 'kc1', 'mfeat-factors', 'credit-g', 'mfeat-pixel', 'climate-model-simulation-crashes', 'first-order-theorem-proving', 'isolet', 'wdbc', 'kc2', 'kr-vs-kp', 'cmc', 'vowel', 'satimage', 'qsar-biodeg', 'mfeat-zernike', 'wilt', 'diabetes', 'har', 'GesturePhaseSegmentationProcessed', 'vehicle', 'semeion', 'mfeat-morphological'] len 43\n",
      "CSV files 1016 ['experiment_kmeans-minibatch_mfeat-karhunen_0.csv', 'experiment_kmeans-minibatch_mfeat-karhunen_1.csv', 'experiment_kmeans-minibatch_mfeat-karhunen_2.csv', 'experiment_kmeans-minibatch_mfeat-karhunen_3.csv', 'experiment_kmeans-minibatch_mfeat-karhunen_4.csv', 'experiment_dbscan_mfeat-karhunen_0.csv', 'experiment_dbscan_mfeat-karhunen_1.csv', 'experiment_dbscan_mfeat-karhunen_2.csv', 'experiment_dbscan_mfeat-karhunen_3.csv', 'experiment_dbscan_mfeat-karhunen_4.csv', 'experiment_hac_mfeat-karhunen_0.csv', 'experiment_hac_mfeat-karhunen_1.csv', 'experiment_hac_mfeat-karhunen_2.csv', 'experiment_hac_mfeat-karhunen_3.csv', 'experiment_hac_mfeat-karhunen_4.csv', 'experiment_hdbscan_mfeat-karhunen_0.csv', 'experiment_hdbscan_mfeat-karhunen_1.csv', 'experiment_hdbscan_mfeat-karhunen_2.csv', 'experiment_hdbscan_mfeat-karhunen_3.csv', 'experiment_birch_mfeat-karhunen_0.csv', 'experiment_birch_mfeat-karhunen_1.csv', 'experiment_birch_mfeat-karhunen_2.csv', 'experiment_birch_mfeat-karhunen_3.csv', 'experiment_birch_mfeat-karhunen_4.csv', 'experiment_kmeans-minibatch_Bioresponse_0.csv', 'experiment_kmeans-minibatch_Bioresponse_1.csv', 'experiment_kmeans-minibatch_Bioresponse_2.csv', 'experiment_kmeans-minibatch_Bioresponse_3.csv', 'experiment_kmeans-minibatch_Bioresponse_4.csv', 'experiment_dbscan_Bioresponse_0.csv']\n",
      "Rank average best-performance across datasets by model\n"
     ]
    },
    {
     "data": {
      "text/html": [
       "<div>\n",
       "<style scoped>\n",
       "    .dataframe tbody tr th:only-of-type {\n",
       "        vertical-align: middle;\n",
       "    }\n",
       "\n",
       "    .dataframe tbody tr th {\n",
       "        vertical-align: top;\n",
       "    }\n",
       "\n",
       "    .dataframe thead th {\n",
       "        text-align: right;\n",
       "    }\n",
       "</style>\n",
       "<table border=\"1\" class=\"dataframe\">\n",
       "  <thead>\n",
       "    <tr style=\"text-align: right;\">\n",
       "      <th></th>\n",
       "      <th>avg_perf</th>\n",
       "    </tr>\n",
       "    <tr>\n",
       "      <th>model</th>\n",
       "      <th></th>\n",
       "    </tr>\n",
       "  </thead>\n",
       "  <tbody>\n",
       "    <tr>\n",
       "      <th>kmeans-minibatch</th>\n",
       "      <td>0.235206</td>\n",
       "    </tr>\n",
       "    <tr>\n",
       "      <th>hac</th>\n",
       "      <td>0.190968</td>\n",
       "    </tr>\n",
       "    <tr>\n",
       "      <th>hdbscan</th>\n",
       "      <td>0.174260</td>\n",
       "    </tr>\n",
       "    <tr>\n",
       "      <th>dbscan</th>\n",
       "      <td>0.169304</td>\n",
       "    </tr>\n",
       "    <tr>\n",
       "      <th>birch</th>\n",
       "      <td>0.169041</td>\n",
       "    </tr>\n",
       "  </tbody>\n",
       "</table>\n",
       "</div>"
      ],
      "text/plain": [
       "                  avg_perf\n",
       "model                     \n",
       "kmeans-minibatch  0.235206\n",
       "hac               0.190968\n",
       "hdbscan           0.174260\n",
       "dbscan            0.169304\n",
       "birch             0.169041"
      ]
     },
     "execution_count": 17,
     "metadata": {},
     "output_type": "execute_result"
    }
   ],
   "source": [
    "from itertools import product\n",
    "import os\n",
    "import pandas as pd\n",
    "\n",
    "num_reinits = 5\n",
    "num_total_trials = 25\n",
    "\n",
    "models = [\"kmeans-minibatch\", \"dbscan\", \"hac\", \"hdbscan\", \"birch\"]\n",
    "output_dir = \"/mnt/nfs/scratch1/siddharthami/iesl/clustering_hyperparameters/output/generic\"\n",
    "\n",
    "files = os.listdir(output_dir)\n",
    "datasets = list(set([ os.path.splitext(output_dir + \"/\" + x)[0].split(\"_\")[3] for x in files ]))\n",
    "csv_files = []\n",
    "final_datasets = []\n",
    "for dataset in datasets:\n",
    "    all_yep = { model: False for model in models}\n",
    "    fnames = []\n",
    "    for model, rnd in list(product(models, range(num_reinits))):\n",
    "        fname = 'experiment_' + model + '_' + dataset + '_' + str(rnd) + '.csv'\n",
    "        if fname in files:\n",
    "            fnames.append(fname)\n",
    "            all_yep[model] = True\n",
    "    if all([all_yep[model] for model in models]):\n",
    "        csv_files.extend(fnames)\n",
    "        final_datasets.append(dataset)\n",
    "print('Datasets', final_datasets, \"len\", len(final_datasets))\n",
    "print('CSV files', len(csv_files), csv_files[:30])\n",
    "df_list = []    \n",
    "for file in csv_files:\n",
    "    model = file.split(\"_\")[1]\n",
    "    dataset = file.split(\"_\")[2]\n",
    "    reinit_index = file.split(\"_\")[3].split(\".\")[0]\n",
    "    \n",
    "    df = pd.read_csv(output_dir + \"/\" + file)\n",
    "    df = df[df['generator_model']=='Sobol']\n",
    "    df['model'] = [model] * num_total_trials\n",
    "    df['dataset'] = [dataset] * num_total_trials\n",
    "    df['reinit_index'] = [reinit_index] * num_total_trials\n",
    "    df = df.filter(items=['model', 'dataset', 'adjusted_rand_score', 'reinit_index', 'trial_index', 'generator_model'])\n",
    "    df_list.append(df)\n",
    "\n",
    "all_df = pd.concat(df_list)\n",
    "avg_perf_by_model = all_df.groupby(['model', 'dataset']).agg(max_within_dataset=('adjusted_rand_score', 'max')).groupby('model').agg(avg_perf=('max_within_dataset', 'mean'))\n",
    "all_df.to_pickle(\"generic_random_df.pkl\")\n",
    "print(\"Rank average best-performance across datasets by model\")\n",
    "avg_perf_by_model.sort_values(['avg_perf'], ascending=[0])"
   ]
  },
  {
   "cell_type": "code",
   "execution_count": null,
   "id": "310df5fc-74d4-4302-9ef2-dda08ebfbedb",
   "metadata": {},
   "outputs": [],
   "source": []
  }
 ],
 "metadata": {
  "kernelspec": {
   "display_name": "Python 3",
   "language": "python",
   "name": "python3"
  },
  "language_info": {
   "codemirror_mode": {
    "name": "ipython",
    "version": 3
   },
   "file_extension": ".py",
   "mimetype": "text/x-python",
   "name": "python",
   "nbconvert_exporter": "python",
   "pygments_lexer": "ipython3",
   "version": "3.8.8"
  }
 },
 "nbformat": 4,
 "nbformat_minor": 5
}
